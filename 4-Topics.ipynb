{
 "cells": [
  {
   "cell_type": "code",
   "execution_count": 1,
   "metadata": {},
   "outputs": [],
   "source": [
    "import string\n",
    "from os.path import join \n",
    "import os\n",
    "import pickle\n",
    "\n",
    "import pandas as pd\n",
    "\n",
    "DATA = 'transcripts'\n",
    "\n",
    "from nltk import word_tokenize, pos_tag\n",
    "\n",
    "\n",
    "def nouns_adj(text):\n",
    "    '''Given a string of text, tokenize the text and pull out only the nouns.'''\n",
    "    is_noun = lambda pos: pos[:2] == 'S' or  pos[:2] == 'A'\n",
    "    tokenized = word_tokenize(text)\n",
    "    all_nouns = [word for (word, pos) in pos_tag(tokenized, lang='rus') if is_noun(pos)] \n",
    "    return ' '.join(all_nouns)\n",
    "\n",
    "\n",
    "# Clean text to keep only nouns and adjectives\n",
    "data_clean = pd.read_pickle(join(DATA,\"clean.pkl\"))\n",
    "data_nouns = pd.DataFrame(data_clean.text.apply(nouns_adj))\n"
   ]
  },
  {
   "cell_type": "code",
   "execution_count": 2,
   "metadata": {},
   "outputs": [
    {
     "name": "stdout",
     "output_type": "stream",
     "text": [
      "Topics = \n"
     ]
    },
    {
     "data": {
      "text/plain": [
       "[(0,\n",
       "  '0.007*\"становиться\" + 0.007*\"который\" + 0.007*\"человек\" + 0.007*\"наука\" + 0.006*\"общество\" + 0.006*\"это\" + 0.006*\"весь\" + 0.005*\"голова\" + 0.004*\"мир\" + 0.004*\"свой\"'),\n",
       " (1,\n",
       "  '0.000*\"мера\" + 0.000*\"общественный\" + 0.000*\"группа\" + 0.000*\"результат\" + 0.000*\"большинство\" + 0.000*\"приговор\" + 0.000*\"допустимый\" + 0.000*\"выступать\" + 0.000*\"девочка\" + 0.000*\"заявлять\"'),\n",
       " (2,\n",
       "  '0.008*\"год\" + 0.007*\"тайга\" + 0.007*\"это\" + 0.005*\"процент\" + 0.005*\"становиться\" + 0.005*\"который\" + 0.005*\"день\" + 0.005*\"удэгеец\" + 0.004*\"человек\" + 0.004*\"красный\"'),\n",
       " (3,\n",
       "  '0.007*\"это\" + 0.007*\"весь\" + 0.006*\"юрий\" + 0.005*\"перемена\" + 0.005*\"дело\" + 0.005*\"реконструкция\" + 0.005*\"человек\" + 0.004*\"который\" + 0.004*\"свой\" + 0.003*\"суд\"')]"
      ]
     },
     "execution_count": 2,
     "metadata": {},
     "output_type": "execute_result"
    }
   ],
   "source": [
    "## Rebuild Document-Term Matrix\n",
    "from nltk.corpus import stopwords\n",
    "from sklearn.feature_extraction.text import CountVectorizer\n",
    "\n",
    "russian_stopwords = stopwords.words(\"russian\")\n",
    "\n",
    "\n",
    "cv = CountVectorizer(stop_words=russian_stopwords)\n",
    "data_cv = cv.fit_transform(data_clean.text)\n",
    "\n",
    "data_dtm = pd.DataFrame(data_cv.toarray(), columns=cv.get_feature_names())\n",
    "data_dtm.index = data_clean.index\n",
    "\n",
    "from gensim import matutils, models\n",
    "import scipy.sparse\n",
    "\n",
    "# We're going to put the term-document matrix into a new gensim format, \n",
    "# from df --> sparse matrix --> gensim corpus\n",
    "corpus = matutils.Sparse2Corpus(scipy.sparse.csr_matrix(data_dtm.transpose()))\n",
    "\n",
    "# Create the vocabulary dictionary\n",
    "id2word = dict((v, k) for k, v in cv.vocabulary_.items())\n",
    "\n",
    "\n",
    "\n",
    "# Let's try 4 topics\n",
    "lda = models.LdaModel(corpus=corpus, num_topics=4, id2word=id2word, passes=80)\n",
    "print('Topics = ')\n",
    "lda.print_topics()"
   ]
  },
  {
   "cell_type": "code",
   "execution_count": 3,
   "metadata": {},
   "outputs": [
    {
     "name": "stdout",
     "output_type": "stream",
     "text": [
      "Topics by authors = \n"
     ]
    },
    {
     "data": {
      "text/plain": [
       "[(3, 'Bowt'),\n",
       " (3, 'Mlshtn'),\n",
       " (2, 'Kuval'),\n",
       " (0, 'Dvdv'),\n",
       " (3, 'Prav'),\n",
       " (2, 'Mrz'),\n",
       " (3, 'Znam'),\n",
       " (2, 'Mikol'),\n",
       " (0, 'Inoz'),\n",
       " (0, 'Mashk')]"
      ]
     },
     "execution_count": 3,
     "metadata": {},
     "output_type": "execute_result"
    }
   ],
   "source": [
    "\n",
    "\n",
    "\n",
    "#Let's take a look at which topics each transcript contains\n",
    "corpus_transformed = lda[corpus]\n",
    "\n",
    "top_list = list(zip([a for [(a,b)] in corpus_transformed], data_dtm.index))\n",
    "\n",
    "print('Topics by authors = ')\n",
    "top_list"
   ]
  },
  {
   "cell_type": "code",
   "execution_count": null,
   "metadata": {},
   "outputs": [],
   "source": []
  }
 ],
 "metadata": {
  "kernelspec": {
   "display_name": "Python 3 Tensoflow2",
   "language": "python",
   "name": "tensorflow2"
  },
  "language_info": {
   "codemirror_mode": {
    "name": "ipython",
    "version": 3
   },
   "file_extension": ".py",
   "mimetype": "text/x-python",
   "name": "python",
   "nbconvert_exporter": "python",
   "pygments_lexer": "ipython3",
   "version": "3.7.5"
  }
 },
 "nbformat": 4,
 "nbformat_minor": 2
}
