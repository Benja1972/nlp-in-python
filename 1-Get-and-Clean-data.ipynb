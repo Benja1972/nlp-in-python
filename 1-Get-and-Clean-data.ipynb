{
 "cells": [
  {
   "cell_type": "code",
   "execution_count": 1,
   "metadata": {},
   "outputs": [],
   "source": [
    "import requests\n",
    "from bs4 import BeautifulSoup\n",
    "import pandas as pd\n",
    "import re\n",
    "import string\n",
    "from os.path import join \n",
    "import os\n",
    "import pickle\n",
    "\n",
    "\n",
    "urls = {'Bowt':'https://snob.ru/entry/185057/',\n",
    "    'Mlshtn':'https://snob.ru/entry/185060/',\n",
    "    'Kuval':'https://snob.ru/entry/185010/',\n",
    "    'Dvdv':'https://snob.ru/entry/184951/',\n",
    "    'Prav':'https://snob.ru/entry/184852/',\n",
    "    'Mrz':'https://snob.ru/news/184870/',\n",
    "    'Znam':'https://snob.ru/entry/184780/',\n",
    "    'Mikol':'https://snob.ru/entry/184642/',\n",
    "    'Inoz':'https://snob.ru/entry/184764/',\n",
    "    'Mashk':'https://snob.ru/entry/184611/'\n",
    "    }\n",
    "\n",
    "\n",
    "\n",
    "full_names =    ['Георгий Бовт',\n",
    "                'Илья Мильштейн',\n",
    "                'Станислав Кувалдин',\n",
    "                'Иван Давыдов',\n",
    "                'Ксения Праведная',\n",
    "                'Ольга Морозова',\n",
    "                'Анна Знаменская',\n",
    "                'Дарья Миколайчук',\n",
    "                'Владислав Иноземцев',\n",
    "                'Диана Машкова']\n",
    "\n",
    "DATA = 'transcripts'\n"
   ]
  },
  {
   "cell_type": "code",
   "execution_count": 2,
   "metadata": {},
   "outputs": [
    {
     "name": "stdout",
     "output_type": "stream",
     "text": [
      "Directory  transcripts  already exists\n"
     ]
    }
   ],
   "source": [
    "if not os.path.exists(DATA):\n",
    "    os.makedirs(DATA)\n",
    "    print(\"Directory \" , DATA ,  \" created \")\n",
    "else:    \n",
    "    print(\"Directory \" , DATA ,  \" already exists\") "
   ]
  },
  {
   "cell_type": "code",
   "execution_count": 3,
   "metadata": {},
   "outputs": [
    {
     "name": "stdout",
     "output_type": "stream",
     "text": [
      "https://snob.ru/entry/185057/ --- DONE\n",
      "https://snob.ru/entry/185060/ --- DONE\n",
      "https://snob.ru/entry/185010/ --- DONE\n",
      "https://snob.ru/entry/184951/ --- DONE\n",
      "https://snob.ru/entry/184852/ --- DONE\n",
      "https://snob.ru/news/184870/ --- DONE\n",
      "https://snob.ru/entry/184780/ --- DONE\n",
      "https://snob.ru/entry/184642/ --- DONE\n",
      "https://snob.ru/entry/184764/ --- DONE\n",
      "https://snob.ru/entry/184611/ --- DONE\n"
     ]
    }
   ],
   "source": [
    "# Scrape transcript data\n",
    "def url_to_text(url):\n",
    "    '''Returns transcript data from snob.ru.'''\n",
    "    page = requests.get(url).text\n",
    "    soup = BeautifulSoup(page, \"lxml\")\n",
    "    text = [p.text for p in soup.find(class_=\"text entry__text js-mediator-article\").find_all('p')]\n",
    "    print(url+\" --- DONE\")\n",
    "    return text\n",
    "\n",
    "\n",
    "\n",
    "\n",
    "data = pd.DataFrame(index=urls.keys(), columns=['transcripts'])\n",
    "\n",
    "for name, url in urls.items():\n",
    "    data.loc[name]['transcripts'] = url_to_text(url)\n",
    "\n",
    "\n",
    "data['text'] = [' '.join(rw['transcripts']) for ind,rw in data.iterrows()]  \n",
    "data['full_name'] = full_names                                                                    \n",
    "data.to_pickle(join(DATA,\"transcripts.pkl\"))"
   ]
  },
  {
   "cell_type": "code",
   "execution_count": 4,
   "metadata": {},
   "outputs": [],
   "source": [
    "## Clean data\n",
    "def clean_round(text):\n",
    "    '''Clean first'''\n",
    "    text = text.lower()\n",
    "    text = text.replace('ё','е')\n",
    "    text = text.replace('Ё','Е')\n",
    "    text = re.sub('\\[.*?\\]', '', text)\n",
    "    text = re.sub('[%s]' % re.escape(string.punctuation), '', text)\n",
    "    text = re.sub('\\w*\\d\\w*', '', text)\n",
    "    text = re.sub(\"—\", \"\", text)\n",
    "    text = re.sub(\"/\", \" \", text)\n",
    "    text = re.sub('[‘’“”…»«]', '', text)\n",
    "    text = re.sub('\\n', '', text)\n",
    "    text = re.sub(\"[a-z]+\",\"\", text)\n",
    "    text = re.sub('\\xa0', ' ', text)\n",
    "    text = re.sub(' +', ' ', text) \n",
    "    return text   \n",
    "\n",
    "\n",
    "cln = lambda x: clean_round(x)\n",
    "\n",
    "# 1 -- Clean\n",
    "data_clean = pd.DataFrame(data.text.apply(cln))"
   ]
  },
  {
   "cell_type": "code",
   "execution_count": 5,
   "metadata": {},
   "outputs": [],
   "source": [
    "from nltk.corpus import stopwords\n",
    "from pymystem3 import Mystem\n",
    "from string import punctuation\n"
   ]
  },
  {
   "cell_type": "code",
   "execution_count": 6,
   "metadata": {},
   "outputs": [],
   "source": [
    "#Create lemmatizer and stopwords list\n",
    "mystem = Mystem() \n",
    "russian_stopwords = stopwords.words(\"russian\")\n",
    "\n",
    "def preprocess_text(text):\n",
    "    tokens = mystem.lemmatize(text.lower())\n",
    "    tokens = [token for token in tokens if token not in russian_stopwords\\\n",
    "              and token != \" \" \\\n",
    "              and token.strip() not in punctuation]\n",
    "    \n",
    "    text = \" \".join(tokens)\n",
    "    \n",
    "    return text\n",
    "\n",
    "prepro = lambda x: preprocess_text(x)\n"
   ]
  },
  {
   "cell_type": "code",
   "execution_count": 7,
   "metadata": {},
   "outputs": [],
   "source": [
    "# 2 -- Lemmatization\n",
    "data_clean = pd.DataFrame(data_clean.text.apply(prepro))\n",
    "\n",
    "data_clean['full_name'] = full_names\n",
    "data_clean.to_pickle(join(DATA,\"clean.pkl\"))\n"
   ]
  },
  {
   "cell_type": "code",
   "execution_count": 8,
   "metadata": {},
   "outputs": [],
   "source": [
    "## Document-Term Matrix\n",
    "from sklearn.feature_extraction.text import CountVectorizer\n",
    "\n",
    "\n",
    "cv = CountVectorizer(stop_words=russian_stopwords)\n",
    "data_cv = cv.fit_transform(data_clean.text)\n",
    "\n",
    "data_dtm = pd.DataFrame(data_cv.toarray(), columns=cv.get_feature_names())\n",
    "\n",
    "data_dtm.index = data_clean.index"
   ]
  },
  {
   "cell_type": "code",
   "execution_count": 9,
   "metadata": {},
   "outputs": [],
   "source": [
    "# Save data \n",
    "data_dtm.to_pickle(join(DATA,\"dtm.pkl\"))\n",
    "pickle.dump(cv, open(join(DATA,\"cv.pkl\"), \"wb\"))"
   ]
  },
  {
   "cell_type": "code",
   "execution_count": null,
   "metadata": {},
   "outputs": [],
   "source": []
  }
 ],
 "metadata": {
  "kernelspec": {
   "display_name": "Python 3 Tensoflow2",
   "language": "python",
   "name": "tensorflow2"
  },
  "language_info": {
   "codemirror_mode": {
    "name": "ipython",
    "version": 3
   },
   "file_extension": ".py",
   "mimetype": "text/x-python",
   "name": "python",
   "nbconvert_exporter": "python",
   "pygments_lexer": "ipython3",
   "version": "3.7.5"
  }
 },
 "nbformat": 4,
 "nbformat_minor": 2
}
